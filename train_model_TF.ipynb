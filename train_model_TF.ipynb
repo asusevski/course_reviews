{
 "cells": [
  {
   "cell_type": "markdown",
   "id": "0e977bbe",
   "metadata": {},
   "source": [
    "## Importing libraries and reading in data:"
   ]
  },
  {
   "cell_type": "code",
   "execution_count": 2,
   "id": "12050684",
   "metadata": {},
   "outputs": [],
   "source": [
    "import json\n",
    "import numpy as np\n",
    "import pandas as pd\n",
    "from sklearn.model_selection import train_test_split"
   ]
  },
  {
   "cell_type": "code",
   "execution_count": 3,
   "id": "08ae7324",
   "metadata": {},
   "outputs": [],
   "source": [
    "df_courses = pd.read_csv('./data/processed_data/course_data_clean.csv')"
   ]
  },
  {
   "cell_type": "markdown",
   "id": "51a30508",
   "metadata": {},
   "source": [
    "### Here's what the data looks like:"
   ]
  },
  {
   "cell_type": "code",
   "execution_count": 4,
   "id": "799955be",
   "metadata": {},
   "outputs": [
    {
     "data": {
      "text/html": [
       "<div>\n",
       "<style scoped>\n",
       "    .dataframe tbody tr th:only-of-type {\n",
       "        vertical-align: middle;\n",
       "    }\n",
       "\n",
       "    .dataframe tbody tr th {\n",
       "        vertical-align: top;\n",
       "    }\n",
       "\n",
       "    .dataframe thead th {\n",
       "        text-align: right;\n",
       "    }\n",
       "</style>\n",
       "<table border=\"1\" class=\"dataframe\">\n",
       "  <thead>\n",
       "    <tr style=\"text-align: right;\">\n",
       "      <th></th>\n",
       "      <th>course_code</th>\n",
       "      <th>course_title</th>\n",
       "      <th>num_ratings</th>\n",
       "      <th>useful</th>\n",
       "      <th>easy</th>\n",
       "      <th>liked</th>\n",
       "      <th>num_reviews</th>\n",
       "      <th>good_course</th>\n",
       "      <th>reviews</th>\n",
       "      <th>course_rating</th>\n",
       "      <th>course_rating_int</th>\n",
       "    </tr>\n",
       "  </thead>\n",
       "  <tbody>\n",
       "    <tr>\n",
       "      <th>0</th>\n",
       "      <td>CS 115</td>\n",
       "      <td>Introduction to Computer Science 1</td>\n",
       "      <td>2111</td>\n",
       "      <td>21%</td>\n",
       "      <td>10%</td>\n",
       "      <td>23%</td>\n",
       "      <td>86</td>\n",
       "      <td>0</td>\n",
       "      <td>go to office hours and practice</td>\n",
       "      <td>liked course</td>\n",
       "      <td>1.0</td>\n",
       "    </tr>\n",
       "    <tr>\n",
       "      <th>1</th>\n",
       "      <td>CS 115</td>\n",
       "      <td>Introduction to Computer Science 1</td>\n",
       "      <td>2111</td>\n",
       "      <td>21%</td>\n",
       "      <td>10%</td>\n",
       "      <td>23%</td>\n",
       "      <td>86</td>\n",
       "      <td>0</td>\n",
       "      <td>One of my least favourite courses. Although th...</td>\n",
       "      <td>disliked course</td>\n",
       "      <td>0.0</td>\n",
       "    </tr>\n",
       "    <tr>\n",
       "      <th>2</th>\n",
       "      <td>CS 115</td>\n",
       "      <td>Introduction to Computer Science 1</td>\n",
       "      <td>2111</td>\n",
       "      <td>21%</td>\n",
       "      <td>10%</td>\n",
       "      <td>23%</td>\n",
       "      <td>86</td>\n",
       "      <td>0</td>\n",
       "      <td>It starts with a very low pace but after midte...</td>\n",
       "      <td>disliked course</td>\n",
       "      <td>0.0</td>\n",
       "    </tr>\n",
       "    <tr>\n",
       "      <th>3</th>\n",
       "      <td>CS 115</td>\n",
       "      <td>Introduction to Computer Science 1</td>\n",
       "      <td>2111</td>\n",
       "      <td>21%</td>\n",
       "      <td>10%</td>\n",
       "      <td>23%</td>\n",
       "      <td>86</td>\n",
       "      <td>0</td>\n",
       "      <td>Took this in 2018 with no programming experien...</td>\n",
       "      <td>liked course</td>\n",
       "      <td>1.0</td>\n",
       "    </tr>\n",
       "    <tr>\n",
       "      <th>4</th>\n",
       "      <td>CS 115</td>\n",
       "      <td>Introduction to Computer Science 1</td>\n",
       "      <td>2111</td>\n",
       "      <td>21%</td>\n",
       "      <td>10%</td>\n",
       "      <td>23%</td>\n",
       "      <td>86</td>\n",
       "      <td>0</td>\n",
       "      <td>I loved everything about cs 115. Great instruc...</td>\n",
       "      <td>liked course</td>\n",
       "      <td>1.0</td>\n",
       "    </tr>\n",
       "    <tr>\n",
       "      <th>...</th>\n",
       "      <td>...</td>\n",
       "      <td>...</td>\n",
       "      <td>...</td>\n",
       "      <td>...</td>\n",
       "      <td>...</td>\n",
       "      <td>...</td>\n",
       "      <td>...</td>\n",
       "      <td>...</td>\n",
       "      <td>...</td>\n",
       "      <td>...</td>\n",
       "      <td>...</td>\n",
       "    </tr>\n",
       "    <tr>\n",
       "      <th>14833</th>\n",
       "      <td>ASL 102R</td>\n",
       "      <td>American Sign Language 2</td>\n",
       "      <td>1</td>\n",
       "      <td>100%</td>\n",
       "      <td>75%</td>\n",
       "      <td>100%</td>\n",
       "      <td>1</td>\n",
       "      <td>1</td>\n",
       "      <td>Took this online with Georgia Whalen. As it wa...</td>\n",
       "      <td>liked course</td>\n",
       "      <td>1.0</td>\n",
       "    </tr>\n",
       "    <tr>\n",
       "      <th>14834</th>\n",
       "      <td>CS 136L</td>\n",
       "      <td>Tools and Techniques for Software Development</td>\n",
       "      <td>1</td>\n",
       "      <td>100%</td>\n",
       "      <td>100%</td>\n",
       "      <td>100%</td>\n",
       "      <td>1</td>\n",
       "      <td>1</td>\n",
       "      <td>I either designed or helped design the majorit...</td>\n",
       "      <td>liked course</td>\n",
       "      <td>1.0</td>\n",
       "    </tr>\n",
       "    <tr>\n",
       "      <th>14835</th>\n",
       "      <td>AFM 417</td>\n",
       "      <td>Special Topics in Accounting</td>\n",
       "      <td>0</td>\n",
       "      <td>N/A</td>\n",
       "      <td>N/A</td>\n",
       "      <td>N/A</td>\n",
       "      <td>1</td>\n",
       "      <td>0</td>\n",
       "      <td>Topic 3: Intro to Data Analytics</td>\n",
       "      <td>None</td>\n",
       "      <td>NaN</td>\n",
       "    </tr>\n",
       "    <tr>\n",
       "      <th>14836</th>\n",
       "      <td>ECON 472</td>\n",
       "      <td>Senior Honours Essay</td>\n",
       "      <td>0</td>\n",
       "      <td>100%</td>\n",
       "      <td>0%</td>\n",
       "      <td>N/A</td>\n",
       "      <td>1</td>\n",
       "      <td>0</td>\n",
       "      <td>Not sure if I liked this course yet. Definitel...</td>\n",
       "      <td>None</td>\n",
       "      <td>NaN</td>\n",
       "    </tr>\n",
       "    <tr>\n",
       "      <th>14837</th>\n",
       "      <td>PMATH 440</td>\n",
       "      <td>Analytic Number Theory</td>\n",
       "      <td>0</td>\n",
       "      <td>0%</td>\n",
       "      <td>0%</td>\n",
       "      <td>N/A</td>\n",
       "      <td>1</td>\n",
       "      <td>0</td>\n",
       "      <td>This course was not as interesting as I hoped ...</td>\n",
       "      <td>None</td>\n",
       "      <td>NaN</td>\n",
       "    </tr>\n",
       "  </tbody>\n",
       "</table>\n",
       "<p>14838 rows × 11 columns</p>\n",
       "</div>"
      ],
      "text/plain": [
       "      course_code                                   course_title  num_ratings  \\\n",
       "0          CS 115             Introduction to Computer Science 1         2111   \n",
       "1          CS 115             Introduction to Computer Science 1         2111   \n",
       "2          CS 115             Introduction to Computer Science 1         2111   \n",
       "3          CS 115             Introduction to Computer Science 1         2111   \n",
       "4          CS 115             Introduction to Computer Science 1         2111   \n",
       "...           ...                                            ...          ...   \n",
       "14833    ASL 102R                       American Sign Language 2            1   \n",
       "14834     CS 136L  Tools and Techniques for Software Development            1   \n",
       "14835     AFM 417                   Special Topics in Accounting            0   \n",
       "14836    ECON 472                           Senior Honours Essay            0   \n",
       "14837   PMATH 440                         Analytic Number Theory            0   \n",
       "\n",
       "      useful  easy liked  num_reviews  good_course  \\\n",
       "0        21%   10%   23%           86            0   \n",
       "1        21%   10%   23%           86            0   \n",
       "2        21%   10%   23%           86            0   \n",
       "3        21%   10%   23%           86            0   \n",
       "4        21%   10%   23%           86            0   \n",
       "...      ...   ...   ...          ...          ...   \n",
       "14833   100%   75%  100%            1            1   \n",
       "14834   100%  100%  100%            1            1   \n",
       "14835    N/A   N/A   N/A            1            0   \n",
       "14836   100%    0%   N/A            1            0   \n",
       "14837     0%    0%   N/A            1            0   \n",
       "\n",
       "                                                 reviews    course_rating  \\\n",
       "0                        go to office hours and practice     liked course   \n",
       "1      One of my least favourite courses. Although th...  disliked course   \n",
       "2      It starts with a very low pace but after midte...  disliked course   \n",
       "3      Took this in 2018 with no programming experien...     liked course   \n",
       "4      I loved everything about cs 115. Great instruc...     liked course   \n",
       "...                                                  ...              ...   \n",
       "14833  Took this online with Georgia Whalen. As it wa...     liked course   \n",
       "14834  I either designed or helped design the majorit...     liked course   \n",
       "14835                   Topic 3: Intro to Data Analytics             None   \n",
       "14836  Not sure if I liked this course yet. Definitel...             None   \n",
       "14837  This course was not as interesting as I hoped ...             None   \n",
       "\n",
       "       course_rating_int  \n",
       "0                    1.0  \n",
       "1                    0.0  \n",
       "2                    0.0  \n",
       "3                    1.0  \n",
       "4                    1.0  \n",
       "...                  ...  \n",
       "14833                1.0  \n",
       "14834                1.0  \n",
       "14835                NaN  \n",
       "14836                NaN  \n",
       "14837                NaN  \n",
       "\n",
       "[14838 rows x 11 columns]"
      ]
     },
     "execution_count": 4,
     "metadata": {},
     "output_type": "execute_result"
    }
   ],
   "source": [
    "df_courses"
   ]
  },
  {
   "cell_type": "markdown",
   "id": "4dca7ac2",
   "metadata": {},
   "source": [
    "### And here's an example of what a review looks like:"
   ]
  },
  {
   "cell_type": "code",
   "execution_count": 5,
   "id": "b65e3c39",
   "metadata": {},
   "outputs": [
    {
     "data": {
      "text/plain": [
       "'go to office hours and practice'"
      ]
     },
     "execution_count": 5,
     "metadata": {},
     "output_type": "execute_result"
    }
   ],
   "source": [
    "df_courses['reviews'].values[0]"
   ]
  },
  {
   "cell_type": "markdown",
   "id": "c543db27",
   "metadata": {},
   "source": [
    "We only need course code, review text, and label (currently called \"course_rating_int\").\n",
    "\n",
    "Subsetting to get these columns and dropping rows where the label is missing, we have:"
   ]
  },
  {
   "cell_type": "code",
   "execution_count": 6,
   "id": "04fea6dd",
   "metadata": {},
   "outputs": [],
   "source": [
    "df_reviews = df_courses[['course_code', 'reviews', 'course_rating_int']].rename(columns={'course_rating_int': 'label'})\n",
    "df_reviews = df_reviews.loc[df_reviews['label'].notna()]"
   ]
  },
  {
   "attachments": {
    "oh.png": {
     "image/png": "[encoded data removed]"
    }
   },
   "cell_type": "markdown",
   "id": "3f402604",
   "metadata": {},
   "source": [
    "For preprocessing the label, we could leave it as is (as a binary variable) but instead we're going to create one-hot vectors for each row.\n",
    "\n",
    "Here is an example of one-hot encoding:\n",
    "\n",
    "![oh.png](attachment:oh.png)\n",
    "\n",
    "The benefit of doing this is it would be easier to add new labels if we needed. In particular, we could add a third label for \"missing rating\", if a review did not give a rating."
   ]
  },
  {
   "cell_type": "code",
   "execution_count": 7,
   "id": "cbeb7468",
   "metadata": {},
   "outputs": [],
   "source": [
    "y = df_reviews['label'].values\n",
    "oh_y = np.zeros((len(y), 2))\n",
    "oh_y[np.arange(len(y)), np.array(y).astype(int)] = 1\n",
    "X_train, X_test, y_train, y_test = train_test_split(list(df_reviews['reviews'].values), oh_y, test_size=0.33, random_state=6)"
   ]
  },
  {
   "cell_type": "markdown",
   "id": "b9f32e66",
   "metadata": {},
   "source": [
    "## Training\n",
    "\n",
    "Importing libraries required for TensorFlow:"
   ]
  },
  {
   "cell_type": "code",
   "execution_count": 10,
   "id": "b981ef1c",
   "metadata": {},
   "outputs": [],
   "source": [
    "import tensorflow as tf\n",
    "import tensorflow_addons as tfa\n",
    "from transformers import AutoTokenizer, DataCollatorWithPadding, TFAutoModelForTokenClassification, create_optimizer\n",
    "from transformers import TFDistilBertForSequenceClassification"
   ]
  },
  {
   "cell_type": "markdown",
   "id": "b315c177",
   "metadata": {},
   "source": [
    "Downloading the distillbert tokenizer from HuggingFace (distillbert model card: https://huggingface.co/distilbert-base-uncased-finetuned-sst-2-english)"
   ]
  },
  {
   "cell_type": "code",
   "execution_count": 11,
   "id": "2d53f6e5",
   "metadata": {},
   "outputs": [],
   "source": [
    "tokenizer = AutoTokenizer.from_pretrained('distilbert-base-uncased')"
   ]
  },
  {
   "cell_type": "markdown",
   "id": "39c6939b",
   "metadata": {},
   "source": [
    "Tokenizing the reviews:"
   ]
  },
  {
   "cell_type": "code",
   "execution_count": 12,
   "id": "4b66d858",
   "metadata": {
    "scrolled": true
   },
   "outputs": [
    {
     "name": "stderr",
     "output_type": "stream",
     "text": [
      "2022-09-22 10:37:29.444902: I tensorflow/stream_executor/cuda/cuda_gpu_executor.cc:966] could not open file to read NUMA node: /sys/bus/pci/devices/0000:01:00.0/numa_node\n",
      "Your kernel may have been built without NUMA support.\n",
      "2022-09-22 10:37:29.463162: W tensorflow/stream_executor/platform/default/dso_loader.cc:64] Could not load dynamic library 'libcudart.so.11.0'; dlerror: libcudart.so.11.0: cannot open shared object file: No such file or directory\n",
      "2022-09-22 10:37:29.463258: W tensorflow/stream_executor/platform/default/dso_loader.cc:64] Could not load dynamic library 'libcublas.so.11'; dlerror: libcublas.so.11: cannot open shared object file: No such file or directory\n",
      "2022-09-22 10:37:29.463321: W tensorflow/stream_executor/platform/default/dso_loader.cc:64] Could not load dynamic library 'libcublasLt.so.11'; dlerror: libcublasLt.so.11: cannot open shared object file: No such file or directory\n",
      "2022-09-22 10:37:29.463378: W tensorflow/stream_executor/platform/default/dso_loader.cc:64] Could not load dynamic library 'libcufft.so.10'; dlerror: libcufft.so.10: cannot open shared object file: No such file or directory\n",
      "2022-09-22 10:37:29.463592: W tensorflow/stream_executor/platform/default/dso_loader.cc:64] Could not load dynamic library 'libcurand.so.10'; dlerror: libcurand.so.10: cannot open shared object file: No such file or directory\n",
      "2022-09-22 10:37:29.463667: W tensorflow/stream_executor/platform/default/dso_loader.cc:64] Could not load dynamic library 'libcusolver.so.11'; dlerror: libcusolver.so.11: cannot open shared object file: No such file or directory\n",
      "2022-09-22 10:37:29.463725: W tensorflow/stream_executor/platform/default/dso_loader.cc:64] Could not load dynamic library 'libcusparse.so.11'; dlerror: libcusparse.so.11: cannot open shared object file: No such file or directory\n",
      "2022-09-22 10:37:29.463808: W tensorflow/stream_executor/platform/default/dso_loader.cc:64] Could not load dynamic library 'libcudnn.so.8'; dlerror: libcudnn.so.8: cannot open shared object file: No such file or directory\n",
      "2022-09-22 10:37:29.463925: W tensorflow/core/common_runtime/gpu/gpu_device.cc:1934] Cannot dlopen some GPU libraries. Please make sure the missing libraries mentioned above are installed properly if you would like to use GPU. Follow the guide at https://www.tensorflow.org/install/gpu for how to download and setup the required libraries for your platform.\n",
      "Skipping registering GPU devices...\n",
      "2022-09-22 10:37:29.469026: I tensorflow/core/platform/cpu_feature_guard.cc:193] This TensorFlow binary is optimized with oneAPI Deep Neural Network Library (oneDNN) to use the following CPU instructions in performance-critical operations:  AVX2 FMA\n",
      "To enable them in other operations, rebuild TensorFlow with the appropriate compiler flags.\n"
     ]
    }
   ],
   "source": [
    "X_train_tokenized = tokenizer(X_train, return_tensors=\"tf\", padding=True, truncation=True)\n",
    "X_test_tokenized = tokenizer(X_test, return_tensors=\"tf\", padding=True, truncation=True)\n",
    "\n",
    "train_ds = tf.data.Dataset.from_tensor_slices((\n",
    "    dict(X_train_tokenized),\n",
    "    y_train\n",
    "))\n",
    "\n",
    "test_ds = tf.data.Dataset.from_tensor_slices((\n",
    "    dict(X_test_tokenized),\n",
    "    y_test\n",
    "))"
   ]
  },
  {
   "cell_type": "markdown",
   "id": "9bc6f9a7",
   "metadata": {},
   "source": [
    "An example of what tokenized input looks like is as follows:"
   ]
  },
  {
   "cell_type": "code",
   "execution_count": 13,
   "id": "28677984",
   "metadata": {},
   "outputs": [
    {
     "data": {
      "text/plain": [
       "{'input_ids': <tf.Tensor: shape=(9792, 512), dtype=int32, numpy=\n",
       "array([[  101,  7167,  1997, ...,     0,     0,     0],\n",
       "       [  101,  1996,  2607, ...,     0,     0,     0],\n",
       "       [  101,  2200,  5875, ...,     0,     0,     0],\n",
       "       ...,\n",
       "       [  101,  2023,  2607, ...,     0,     0,     0],\n",
       "       [  101,  2200,  5875, ...,     0,     0,     0],\n",
       "       [  101,  2061, 11809, ...,     0,     0,     0]], dtype=int32)>, 'attention_mask': <tf.Tensor: shape=(9792, 512), dtype=int32, numpy=\n",
       "array([[1, 1, 1, ..., 0, 0, 0],\n",
       "       [1, 1, 1, ..., 0, 0, 0],\n",
       "       [1, 1, 1, ..., 0, 0, 0],\n",
       "       ...,\n",
       "       [1, 1, 1, ..., 0, 0, 0],\n",
       "       [1, 1, 1, ..., 0, 0, 0],\n",
       "       [1, 1, 1, ..., 0, 0, 0]], dtype=int32)>}"
      ]
     },
     "execution_count": 13,
     "metadata": {},
     "output_type": "execute_result"
    }
   ],
   "source": [
    "X_train_tokenized"
   ]
  },
  {
   "cell_type": "markdown",
   "id": "baba1642",
   "metadata": {},
   "source": [
    "Next, we need to set our hyperparameters for our model:"
   ]
  },
  {
   "cell_type": "code",
   "execution_count": 10,
   "id": "84cbe401",
   "metadata": {},
   "outputs": [],
   "source": [
    "model_name = \"distilbert-base-uncased\"\n",
    "max_length = 96\n",
    "epochs = 5\n",
    "batch_size = 32\n",
    "learning_rate = 2e-5\n",
    "weight_decay_rate=0.01\n",
    "num_train_steps = len(X_train) // batch_size\n",
    "num_warmup_steps = 0"
   ]
  },
  {
   "cell_type": "markdown",
   "id": "3cbfeeaa",
   "metadata": {},
   "source": [
    "Downloading the pretrained model from HuggingFace:\n",
    "\n",
    "*note, we set the number of labels that our classification task requires, ie: 2*"
   ]
  },
  {
   "cell_type": "code",
   "execution_count": 11,
   "id": "146dcce3",
   "metadata": {
    "scrolled": true
   },
   "outputs": [
    {
     "name": "stderr",
     "output_type": "stream",
     "text": [
      "Some layers from the model checkpoint at distilbert-base-uncased were not used when initializing TFDistilBertForSequenceClassification: ['vocab_layer_norm', 'activation_13', 'vocab_transform', 'vocab_projector']\n",
      "- This IS expected if you are initializing TFDistilBertForSequenceClassification from the checkpoint of a model trained on another task or with another architecture (e.g. initializing a BertForSequenceClassification model from a BertForPreTraining model).\n",
      "- This IS NOT expected if you are initializing TFDistilBertForSequenceClassification from the checkpoint of a model that you expect to be exactly identical (initializing a BertForSequenceClassification model from a BertForSequenceClassification model).\n",
      "Some layers of TFDistilBertForSequenceClassification were not initialized from the model checkpoint at distilbert-base-uncased and are newly initialized: ['pre_classifier', 'classifier', 'dropout_19']\n",
      "You should probably TRAIN this model on a down-stream task to be able to use it for predictions and inference.\n"
     ]
    }
   ],
   "source": [
    "model = TFDistilBertForSequenceClassification.from_pretrained('distilbert-base-uncased', num_labels=2)"
   ]
  },
  {
   "cell_type": "markdown",
   "id": "ea238188",
   "metadata": {},
   "source": [
    "Finally, defining the metric that the model will use to train and compiling the model:"
   ]
  },
  {
   "cell_type": "code",
   "execution_count": 19,
   "id": "fb9339ae",
   "metadata": {},
   "outputs": [
    {
     "ename": "ModuleNotFoundError",
     "evalue": "No module named 'tensorflow_addons'",
     "output_type": "error",
     "traceback": [
      "\u001b[0;31m---------------------------------------------------------------------------\u001b[0m",
      "\u001b[0;31mModuleNotFoundError\u001b[0m                       Traceback (most recent call last)",
      "Cell \u001b[0;32mIn [19], line 1\u001b[0m\n\u001b[0;32m----> 1\u001b[0m \u001b[38;5;28;01mimport\u001b[39;00m \u001b[38;5;21;01mtensorflow_addons\u001b[39;00m \u001b[38;5;28;01mas\u001b[39;00m \u001b[38;5;21;01mtfa\u001b[39;00m\n\u001b[1;32m      3\u001b[0m metric \u001b[38;5;241m=\u001b[39m tfa\u001b[38;5;241m.\u001b[39mmetrics\u001b[38;5;241m.\u001b[39mF1Score(num_classes\u001b[38;5;241m=\u001b[39m\u001b[38;5;241m2\u001b[39m, threshold\u001b[38;5;241m=\u001b[39m\u001b[38;5;241m0.5\u001b[39m)\n\u001b[1;32m      5\u001b[0m \u001b[38;5;28;01mdef\u001b[39;00m \u001b[38;5;21mf1_m\u001b[39m(y_true, y_pred):\n",
      "\u001b[0;31mModuleNotFoundError\u001b[0m: No module named 'tensorflow_addons'"
     ]
    }
   ],
   "source": [
    "metric = tfa.metrics.F1Score(num_classes=2, threshold=0.5)\n",
    "\n",
    "def f1_m(y_true, y_pred):\n",
    "    return metric(y_true, y_pred)\n",
    "\n",
    "model.compile(\n",
    "    optimizer=tf.keras.optimizers.Adam(lr=5e-5),\n",
    "    loss=tf.keras.losses.CategoricalCrossentropy(from_logits=True),\n",
    "    metrics=[f1_m]\n",
    ")"
   ]
  },
  {
   "cell_type": "markdown",
   "id": "00e2b8ba",
   "metadata": {},
   "source": [
    "Train and save the model!"
   ]
  },
  {
   "cell_type": "code",
   "execution_count": null,
   "id": "4c194a6e",
   "metadata": {},
   "outputs": [],
   "source": [
    "model.fit(\n",
    "    train_ds.batch(batch_size),\n",
    "    epochs=epochs,\n",
    "    validation_data=test_ds.batch(batch_size)\n",
    ")"
   ]
  },
  {
   "cell_type": "code",
   "execution_count": null,
   "id": "64df1fb1",
   "metadata": {},
   "outputs": [],
   "source": [
    "model.save('./saved_model/tf_distilbert_course_reviews_01.pth')"
   ]
  }
 ],
 "metadata": {
  "kernelspec": {
   "display_name": "Python 3 (ipykernel)",
   "language": "python",
   "name": "python3"
  },
  "language_info": {
   "codemirror_mode": {
    "name": "ipython",
    "version": 3
   },
   "file_extension": ".py",
   "mimetype": "text/x-python",
   "name": "python",
   "nbconvert_exporter": "python",
   "pygments_lexer": "ipython3",
   "version": "3.8.10"
  }
 },
 "nbformat": 4,
 "nbformat_minor": 5
}
