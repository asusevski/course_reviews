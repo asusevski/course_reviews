{
 "cells": [
  {
   "cell_type": "code",
   "execution_count": null,
   "id": "12050684",
   "metadata": {},
   "outputs": [],
   "source": [
    "import json\n",
    "import numpy as np\n",
    "import pandas as pd\n",
    "from sklearn.model_selection import train_test_split"
   ]
  },
  {
   "cell_type": "code",
   "execution_count": null,
   "id": "08ae7324",
   "metadata": {},
   "outputs": [],
   "source": [
    "df_courses = pd.read_json('./data/processed_data/course_data_clean.json')"
   ]
  },
  {
   "cell_type": "markdown",
   "id": "51a30508",
   "metadata": {},
   "source": [
    "### Here's what the data looks like:"
   ]
  },
  {
   "cell_type": "code",
   "execution_count": null,
   "id": "799955be",
   "metadata": {},
   "outputs": [],
   "source": [
    "df_courses"
   ]
  },
  {
   "cell_type": "markdown",
   "id": "4dca7ac2",
   "metadata": {},
   "source": [
    "### And here's an example of what a review looks like:"
   ]
  },
  {
   "cell_type": "code",
   "execution_count": null,
   "id": "b65e3c39",
   "metadata": {},
   "outputs": [],
   "source": [
    "df_courses['reviews'].values[0]"
   ]
  },
  {
   "cell_type": "markdown",
   "id": "c543db27",
   "metadata": {},
   "source": [
    "Subsetting to get only the course code, review text, and label (which is called \"course_rating_int\" right now):"
   ]
  },
  {
   "cell_type": "code",
   "execution_count": null,
   "id": "04fea6dd",
   "metadata": {},
   "outputs": [],
   "source": [
    "df_reviews = df_courses[['course_code', 'reviews', 'course_rating_int']].rename(columns={'course_rating_int': 'label'})"
   ]
  },
  {
   "cell_type": "code",
   "execution_count": null,
   "id": "fb9afca6",
   "metadata": {},
   "outputs": [],
   "source": [
    "df_reviews"
   ]
  },
  {
   "cell_type": "code",
   "execution_count": null,
   "id": "cbeb7468",
   "metadata": {},
   "outputs": [],
   "source": [
    "X_train, X_test, y_train, y_test = train_test_split(list(df_reviews['reviews'].values), list(df_reviews['label'].values), test_size=0.33, random_state=6)"
   ]
  },
  {
   "cell_type": "markdown",
   "id": "b9f32e66",
   "metadata": {},
   "source": [
    "## Training"
   ]
  },
  {
   "cell_type": "code",
   "execution_count": null,
   "id": "b981ef1c",
   "metadata": {},
   "outputs": [],
   "source": [
    "import tensorflow as tf\n",
    "from transformers import AutoTokenizer, DataCollatorWithPadding, TFAutoModelForTokenClassification, create_optimizer\n",
    "from transformers import TFDistilBertForSequenceClassification"
   ]
  },
  {
   "cell_type": "code",
   "execution_count": null,
   "id": "2d53f6e5",
   "metadata": {},
   "outputs": [],
   "source": [
    "tokenizer = AutoTokenizer.from_pretrained('distilbert-base-uncased')"
   ]
  },
  {
   "cell_type": "code",
   "execution_count": null,
   "id": "4b66d858",
   "metadata": {
    "scrolled": true
   },
   "outputs": [],
   "source": [
    "X_train_tokenized = tokenizer(X_train, return_tensors=\"tf\", padding=True, truncation=True)\n",
    "X_test_tokenized = tokenizer(X_test, return_tensors=\"tf\", padding=True, truncation=True)\n",
    "\n",
    "train_ds = tf.data.Dataset.from_tensor_slices((\n",
    "    dict(X_train_tokenized),\n",
    "    y_train\n",
    "))\n",
    "\n",
    "test_ds = tf.data.Dataset.from_tensor_slices((\n",
    "    dict(X_test_tokenized),\n",
    "    y_test\n",
    "))"
   ]
  },
  {
   "cell_type": "code",
   "execution_count": null,
   "id": "84cbe401",
   "metadata": {},
   "outputs": [],
   "source": [
    "# Set hyperparams/constants\n",
    "model_name = \"distilbert-base-uncased\"\n",
    "max_length = 96\n",
    "epochs = 5\n",
    "batch_size = 32\n",
    "learning_rate = 2e-5\n",
    "weight_decay_rate=0.01\n",
    "num_train_steps = len(X_train) // batch_size\n",
    "num_warmup_steps = 0"
   ]
  },
  {
   "cell_type": "code",
   "execution_count": null,
   "id": "032df087",
   "metadata": {},
   "outputs": [],
   "source": [
    "# trying create_optimizer\n",
    "optimizer, _ = create_optimizer(\n",
    "    init_lr=learning_rate,\n",
    "    num_train_steps=num_train_steps,\n",
    "    weight_decay_rate=weight_decay_rate,\n",
    "    num_warmup_steps=num_warmup_steps\n",
    ")"
   ]
  },
  {
   "cell_type": "code",
   "execution_count": null,
   "id": "146dcce3",
   "metadata": {},
   "outputs": [],
   "source": [
    "model = TFDistilBertForSequenceClassification.from_pretrained('distilbert-base-uncased', num_labels=2)"
   ]
  },
  {
   "cell_type": "code",
   "execution_count": null,
   "id": "fb9339ae",
   "metadata": {},
   "outputs": [],
   "source": [
    "import tensorflow_addons as tfa\n",
    "\n",
    "metric = tfa.metrics.F1Score(num_classes=2, threshold=0.5)\n",
    "\n",
    "def f1_m(y_true, y_pred):\n",
    "    return metric(y_true, y_pred)\n",
    "\n",
    "model.compile(\n",
    "    optimizer=tf.keras.optimizers.Adam(lr=5e-5),\n",
    "    loss=tf.keras.losses.CategoricalCrossentropy(from_logits=True),\n",
    "    metrics=[f1_m]\n",
    ")"
   ]
  },
  {
   "cell_type": "code",
   "execution_count": null,
   "id": "e2606693",
   "metadata": {},
   "outputs": [],
   "source": [
    "model.predict(tokenizer.encode(\"how are you\",\n",
    "                                 truncation=True,\n",
    "                                 padding=True,\n",
    "                                 return_tensors=\"tf\"))"
   ]
  },
  {
   "cell_type": "code",
   "execution_count": null,
   "id": "4c194a6e",
   "metadata": {},
   "outputs": [],
   "source": [
    "model.fit(\n",
    "    train_ds.batch(batch_size),\n",
    "    epochs=epochs,\n",
    "    validation_data=test_ds.batch(batch_size)\n",
    ")"
   ]
  },
  {
   "cell_type": "code",
   "execution_count": null,
   "id": "64df1fb1",
   "metadata": {},
   "outputs": [],
   "source": [
    "model.save('./saved_model/tf_distilbert_course_reviews_01.pth')"
   ]
  }
 ],
 "metadata": {
  "kernelspec": {
   "display_name": "Python 3 (ipykernel)",
   "language": "python",
   "name": "python3"
  },
  "language_info": {
   "codemirror_mode": {
    "name": "ipython",
    "version": 3
   },
   "file_extension": ".py",
   "mimetype": "text/x-python",
   "name": "python",
   "nbconvert_exporter": "python",
   "pygments_lexer": "ipython3",
   "version": "3.10.4"
  }
 },
 "nbformat": 4,
 "nbformat_minor": 5
}
