{
 "cells": [
  {
   "cell_type": "code",
   "execution_count": 1,
   "id": "12050684",
   "metadata": {},
   "outputs": [],
   "source": [
    "import json\n",
    "import numpy as np\n",
    "import pandas as pd\n",
    "from sklearn.model_selection import train_test_split"
   ]
  },
  {
   "cell_type": "code",
   "execution_count": 2,
   "id": "08ae7324",
   "metadata": {},
   "outputs": [],
   "source": [
    "df_courses = pd.read_json('./data/processed_data/course_data_clean.json')"
   ]
  },
  {
   "cell_type": "markdown",
   "id": "51a30508",
   "metadata": {},
   "source": [
    "### Here's what the data looks like:"
   ]
  },
  {
   "cell_type": "code",
   "execution_count": 3,
   "id": "799955be",
   "metadata": {},
   "outputs": [
    {
     "data": {
      "text/html": [
       "<div>\n",
       "<style scoped>\n",
       "    .dataframe tbody tr th:only-of-type {\n",
       "        vertical-align: middle;\n",
       "    }\n",
       "\n",
       "    .dataframe tbody tr th {\n",
       "        vertical-align: top;\n",
       "    }\n",
       "\n",
       "    .dataframe thead th {\n",
       "        text-align: right;\n",
       "    }\n",
       "</style>\n",
       "<table border=\"1\" class=\"dataframe\">\n",
       "  <thead>\n",
       "    <tr style=\"text-align: right;\">\n",
       "      <th></th>\n",
       "      <th>course_code</th>\n",
       "      <th>course_title</th>\n",
       "      <th>num_ratings</th>\n",
       "      <th>useful</th>\n",
       "      <th>easy</th>\n",
       "      <th>liked</th>\n",
       "      <th>reviews</th>\n",
       "      <th>num_reviews</th>\n",
       "      <th>num_reviews_with_rating</th>\n",
       "      <th>good_course</th>\n",
       "    </tr>\n",
       "  </thead>\n",
       "  <tbody>\n",
       "    <tr>\n",
       "      <th>0</th>\n",
       "      <td>CS 115</td>\n",
       "      <td>Introduction to Computer Science 1</td>\n",
       "      <td>2111</td>\n",
       "      <td>21%</td>\n",
       "      <td>10%</td>\n",
       "      <td>23%</td>\n",
       "      <td>[{'review_text': 'go to office hours and pract...</td>\n",
       "      <td>86</td>\n",
       "      <td>83</td>\n",
       "      <td>0</td>\n",
       "    </tr>\n",
       "    <tr>\n",
       "      <th>1</th>\n",
       "      <td>MATH 135</td>\n",
       "      <td>Algebra for Honours Mathematics</td>\n",
       "      <td>1186</td>\n",
       "      <td>84%</td>\n",
       "      <td>41%</td>\n",
       "      <td>78%</td>\n",
       "      <td>[{'review_text': 'Welcome to Waterloo Math.', ...</td>\n",
       "      <td>253</td>\n",
       "      <td>250</td>\n",
       "      <td>1</td>\n",
       "    </tr>\n",
       "    <tr>\n",
       "      <th>2</th>\n",
       "      <td>ECON 101</td>\n",
       "      <td>Introduction to Microeconomics</td>\n",
       "      <td>1143</td>\n",
       "      <td>64%</td>\n",
       "      <td>70%</td>\n",
       "      <td>45%</td>\n",
       "      <td>[{'review_text': 'Took it online in W21 during...</td>\n",
       "      <td>214</td>\n",
       "      <td>210</td>\n",
       "      <td>0</td>\n",
       "    </tr>\n",
       "    <tr>\n",
       "      <th>3</th>\n",
       "      <td>PSYCH 101</td>\n",
       "      <td>Introductory Psychology</td>\n",
       "      <td>899</td>\n",
       "      <td>73%</td>\n",
       "      <td>67%</td>\n",
       "      <td>79%</td>\n",
       "      <td>[{'review_text': 'Really easy, the course was ...</td>\n",
       "      <td>8</td>\n",
       "      <td>8</td>\n",
       "      <td>1</td>\n",
       "    </tr>\n",
       "    <tr>\n",
       "      <th>4</th>\n",
       "      <td>MATH 137</td>\n",
       "      <td>Calculus 1 for Honours Mathematics</td>\n",
       "      <td>780</td>\n",
       "      <td>86%</td>\n",
       "      <td>56%</td>\n",
       "      <td>69%</td>\n",
       "      <td>[{'review_text': 'and then isaac newton said \"...</td>\n",
       "      <td>171</td>\n",
       "      <td>167</td>\n",
       "      <td>1</td>\n",
       "    </tr>\n",
       "    <tr>\n",
       "      <th>...</th>\n",
       "      <td>...</td>\n",
       "      <td>...</td>\n",
       "      <td>...</td>\n",
       "      <td>...</td>\n",
       "      <td>...</td>\n",
       "      <td>...</td>\n",
       "      <td>...</td>\n",
       "      <td>...</td>\n",
       "      <td>...</td>\n",
       "      <td>...</td>\n",
       "    </tr>\n",
       "    <tr>\n",
       "      <th>8474</th>\n",
       "      <td>BE 680</td>\n",
       "      <td>Consulting</td>\n",
       "      <td>0</td>\n",
       "      <td>N/A</td>\n",
       "      <td>N/A</td>\n",
       "      <td>N/A</td>\n",
       "      <td>[]</td>\n",
       "      <td>0</td>\n",
       "      <td>0</td>\n",
       "      <td>0</td>\n",
       "    </tr>\n",
       "    <tr>\n",
       "      <th>8475</th>\n",
       "      <td>KIN 658</td>\n",
       "      <td>Physical Activity and Cognition</td>\n",
       "      <td>0</td>\n",
       "      <td>N/A</td>\n",
       "      <td>N/A</td>\n",
       "      <td>N/A</td>\n",
       "      <td>[]</td>\n",
       "      <td>0</td>\n",
       "      <td>0</td>\n",
       "      <td>0</td>\n",
       "    </tr>\n",
       "    <tr>\n",
       "      <th>8476</th>\n",
       "      <td>ERS 620</td>\n",
       "      <td>Skills Identification and Career Development</td>\n",
       "      <td>0</td>\n",
       "      <td>N/A</td>\n",
       "      <td>N/A</td>\n",
       "      <td>N/A</td>\n",
       "      <td>[]</td>\n",
       "      <td>0</td>\n",
       "      <td>0</td>\n",
       "      <td>0</td>\n",
       "    </tr>\n",
       "    <tr>\n",
       "      <th>8477</th>\n",
       "      <td>KIN 659</td>\n",
       "      <td>Wearable Technology</td>\n",
       "      <td>0</td>\n",
       "      <td>N/A</td>\n",
       "      <td>N/A</td>\n",
       "      <td>N/A</td>\n",
       "      <td>[]</td>\n",
       "      <td>0</td>\n",
       "      <td>0</td>\n",
       "      <td>0</td>\n",
       "    </tr>\n",
       "    <tr>\n",
       "      <th>8478</th>\n",
       "      <td>COMMST 101</td>\n",
       "      <td>Theories of Communication</td>\n",
       "      <td>0</td>\n",
       "      <td>N/A</td>\n",
       "      <td>N/A</td>\n",
       "      <td>N/A</td>\n",
       "      <td>[]</td>\n",
       "      <td>0</td>\n",
       "      <td>0</td>\n",
       "      <td>0</td>\n",
       "    </tr>\n",
       "  </tbody>\n",
       "</table>\n",
       "<p>8479 rows × 10 columns</p>\n",
       "</div>"
      ],
      "text/plain": [
       "     course_code                                  course_title  num_ratings  \\\n",
       "0         CS 115            Introduction to Computer Science 1         2111   \n",
       "1       MATH 135               Algebra for Honours Mathematics         1186   \n",
       "2       ECON 101                Introduction to Microeconomics         1143   \n",
       "3      PSYCH 101                       Introductory Psychology          899   \n",
       "4       MATH 137            Calculus 1 for Honours Mathematics          780   \n",
       "...          ...                                           ...          ...   \n",
       "8474      BE 680                                    Consulting            0   \n",
       "8475     KIN 658               Physical Activity and Cognition            0   \n",
       "8476     ERS 620  Skills Identification and Career Development            0   \n",
       "8477     KIN 659                           Wearable Technology            0   \n",
       "8478  COMMST 101                     Theories of Communication            0   \n",
       "\n",
       "     useful easy liked                                            reviews  \\\n",
       "0       21%  10%   23%  [{'review_text': 'go to office hours and pract...   \n",
       "1       84%  41%   78%  [{'review_text': 'Welcome to Waterloo Math.', ...   \n",
       "2       64%  70%   45%  [{'review_text': 'Took it online in W21 during...   \n",
       "3       73%  67%   79%  [{'review_text': 'Really easy, the course was ...   \n",
       "4       86%  56%   69%  [{'review_text': 'and then isaac newton said \"...   \n",
       "...     ...  ...   ...                                                ...   \n",
       "8474    N/A  N/A   N/A                                                 []   \n",
       "8475    N/A  N/A   N/A                                                 []   \n",
       "8476    N/A  N/A   N/A                                                 []   \n",
       "8477    N/A  N/A   N/A                                                 []   \n",
       "8478    N/A  N/A   N/A                                                 []   \n",
       "\n",
       "      num_reviews  num_reviews_with_rating  good_course  \n",
       "0              86                       83            0  \n",
       "1             253                      250            1  \n",
       "2             214                      210            0  \n",
       "3               8                        8            1  \n",
       "4             171                      167            1  \n",
       "...           ...                      ...          ...  \n",
       "8474            0                        0            0  \n",
       "8475            0                        0            0  \n",
       "8476            0                        0            0  \n",
       "8477            0                        0            0  \n",
       "8478            0                        0            0  \n",
       "\n",
       "[8479 rows x 10 columns]"
      ]
     },
     "execution_count": 3,
     "metadata": {},
     "output_type": "execute_result"
    }
   ],
   "source": [
    "df_courses"
   ]
  },
  {
   "cell_type": "markdown",
   "id": "4dca7ac2",
   "metadata": {},
   "source": [
    "### And here's an example of what a review looks like:"
   ]
  },
  {
   "cell_type": "code",
   "execution_count": 4,
   "id": "b65e3c39",
   "metadata": {},
   "outputs": [
    {
     "data": {
      "text/plain": [
       "{'review_text': 'go to office hours and practice',\n",
       " 'course_rating': 'liked course',\n",
       " 'course_rating_int': 1}"
      ]
     },
     "execution_count": 4,
     "metadata": {},
     "output_type": "execute_result"
    }
   ],
   "source": [
    "df_courses['reviews'].values[0][0]"
   ]
  },
  {
   "cell_type": "markdown",
   "id": "c543db27",
   "metadata": {},
   "source": [
    "Quick preprocessing to extract reviews and labels"
   ]
  },
  {
   "cell_type": "code",
   "execution_count": 5,
   "id": "aef03c5d",
   "metadata": {},
   "outputs": [],
   "source": [
    "df_reviews = {'course_code': [], 'review': [], 'label': []}\n",
    "for course in df_courses[['course_code', 'reviews']].values:\n",
    "    course_code = course[0]\n",
    "    reviews = course[1]\n",
    "    retval = []\n",
    "    for review in reviews:\n",
    "        review_text = review['review_text']\n",
    "        label = review['course_rating_int']\n",
    "        df_reviews['course_code'].append(course_code)\n",
    "        df_reviews['review'].append(review_text)\n",
    "        df_reviews['label'].append(label)\n",
    "        \n",
    "df_reviews = pd.DataFrame(df_reviews).dropna(axis=0)"
   ]
  },
  {
   "cell_type": "code",
   "execution_count": 6,
   "id": "fb9afca6",
   "metadata": {},
   "outputs": [
    {
     "data": {
      "text/html": [
       "<div>\n",
       "<style scoped>\n",
       "    .dataframe tbody tr th:only-of-type {\n",
       "        vertical-align: middle;\n",
       "    }\n",
       "\n",
       "    .dataframe tbody tr th {\n",
       "        vertical-align: top;\n",
       "    }\n",
       "\n",
       "    .dataframe thead th {\n",
       "        text-align: right;\n",
       "    }\n",
       "</style>\n",
       "<table border=\"1\" class=\"dataframe\">\n",
       "  <thead>\n",
       "    <tr style=\"text-align: right;\">\n",
       "      <th></th>\n",
       "      <th>course_code</th>\n",
       "      <th>review</th>\n",
       "      <th>label</th>\n",
       "    </tr>\n",
       "  </thead>\n",
       "  <tbody>\n",
       "    <tr>\n",
       "      <th>0</th>\n",
       "      <td>CS 115</td>\n",
       "      <td>go to office hours and practice</td>\n",
       "      <td>1.0</td>\n",
       "    </tr>\n",
       "    <tr>\n",
       "      <th>1</th>\n",
       "      <td>CS 115</td>\n",
       "      <td>One of my least favourite courses. Although th...</td>\n",
       "      <td>0.0</td>\n",
       "    </tr>\n",
       "    <tr>\n",
       "      <th>2</th>\n",
       "      <td>CS 115</td>\n",
       "      <td>It starts with a very low pace but after midte...</td>\n",
       "      <td>0.0</td>\n",
       "    </tr>\n",
       "    <tr>\n",
       "      <th>3</th>\n",
       "      <td>CS 115</td>\n",
       "      <td>Took this in 2018 with no programming experien...</td>\n",
       "      <td>1.0</td>\n",
       "    </tr>\n",
       "    <tr>\n",
       "      <th>4</th>\n",
       "      <td>CS 115</td>\n",
       "      <td>I loved everything about cs 115. Great instruc...</td>\n",
       "      <td>1.0</td>\n",
       "    </tr>\n",
       "    <tr>\n",
       "      <th>...</th>\n",
       "      <td>...</td>\n",
       "      <td>...</td>\n",
       "      <td>...</td>\n",
       "    </tr>\n",
       "    <tr>\n",
       "      <th>14830</th>\n",
       "      <td>GSJ 410</td>\n",
       "      <td>This is a really wonderful course! Dr. Fraser ...</td>\n",
       "      <td>1.0</td>\n",
       "    </tr>\n",
       "    <tr>\n",
       "      <th>14831</th>\n",
       "      <td>SOC 436</td>\n",
       "      <td>While this course ended up being relatively in...</td>\n",
       "      <td>1.0</td>\n",
       "    </tr>\n",
       "    <tr>\n",
       "      <th>14832</th>\n",
       "      <td>BME 588</td>\n",
       "      <td>Personally did not find Computational Biomecha...</td>\n",
       "      <td>0.0</td>\n",
       "    </tr>\n",
       "    <tr>\n",
       "      <th>14833</th>\n",
       "      <td>ASL 102R</td>\n",
       "      <td>Took this online with Georgia Whalen. As it wa...</td>\n",
       "      <td>1.0</td>\n",
       "    </tr>\n",
       "    <tr>\n",
       "      <th>14834</th>\n",
       "      <td>CS 136L</td>\n",
       "      <td>I either designed or helped design the majorit...</td>\n",
       "      <td>1.0</td>\n",
       "    </tr>\n",
       "  </tbody>\n",
       "</table>\n",
       "<p>14616 rows × 3 columns</p>\n",
       "</div>"
      ],
      "text/plain": [
       "      course_code                                             review  label\n",
       "0          CS 115                    go to office hours and practice    1.0\n",
       "1          CS 115  One of my least favourite courses. Although th...    0.0\n",
       "2          CS 115  It starts with a very low pace but after midte...    0.0\n",
       "3          CS 115  Took this in 2018 with no programming experien...    1.0\n",
       "4          CS 115  I loved everything about cs 115. Great instruc...    1.0\n",
       "...           ...                                                ...    ...\n",
       "14830     GSJ 410  This is a really wonderful course! Dr. Fraser ...    1.0\n",
       "14831     SOC 436  While this course ended up being relatively in...    1.0\n",
       "14832     BME 588  Personally did not find Computational Biomecha...    0.0\n",
       "14833    ASL 102R  Took this online with Georgia Whalen. As it wa...    1.0\n",
       "14834     CS 136L  I either designed or helped design the majorit...    1.0\n",
       "\n",
       "[14616 rows x 3 columns]"
      ]
     },
     "execution_count": 6,
     "metadata": {},
     "output_type": "execute_result"
    }
   ],
   "source": [
    "df_reviews"
   ]
  },
  {
   "cell_type": "code",
   "execution_count": 13,
   "id": "cbeb7468",
   "metadata": {},
   "outputs": [],
   "source": [
    "y = list(df_reviews['label'].values)\n",
    "oh_y = np.zeros((len(y), 2))\n",
    "oh_y[np.arange(len(y)), np.array(y).astype(int)] = 1\n",
    "\n",
    "X_train, X_test, y_train, y_test = train_test_split(list(df_reviews['review'].values), oh_y, test_size=0.33, random_state=6)"
   ]
  },
  {
   "cell_type": "markdown",
   "id": "b9f32e66",
   "metadata": {},
   "source": [
    "## Training"
   ]
  },
  {
   "cell_type": "code",
   "execution_count": 14,
   "id": "b981ef1c",
   "metadata": {},
   "outputs": [
    {
     "name": "stderr",
     "output_type": "stream",
     "text": [
      "2022-09-21 02:18:56.455770: I tensorflow/core/platform/cpu_feature_guard.cc:193] This TensorFlow binary is optimized with oneAPI Deep Neural Network Library (oneDNN) to use the following CPU instructions in performance-critical operations:  AVX2 FMA\n",
      "To enable them in other operations, rebuild TensorFlow with the appropriate compiler flags.\n",
      "2022-09-21 02:18:56.568040: E tensorflow/stream_executor/cuda/cuda_blas.cc:2981] Unable to register cuBLAS factory: Attempting to register factory for plugin cuBLAS when one has already been registered\n",
      "2022-09-21 02:18:57.020798: W tensorflow/stream_executor/platform/default/dso_loader.cc:64] Could not load dynamic library 'libnvinfer.so.7'; dlerror: libnvinfer.so.7: cannot open shared object file: No such file or directory; LD_LIBRARY_PATH: /usr/local/nvidia/lib:/usr/local/nvidia/lib64\n",
      "2022-09-21 02:18:57.020883: W tensorflow/stream_executor/platform/default/dso_loader.cc:64] Could not load dynamic library 'libnvinfer_plugin.so.7'; dlerror: libnvinfer_plugin.so.7: cannot open shared object file: No such file or directory; LD_LIBRARY_PATH: /usr/local/nvidia/lib:/usr/local/nvidia/lib64\n",
      "2022-09-21 02:18:57.020895: W tensorflow/compiler/tf2tensorrt/utils/py_utils.cc:38] TF-TRT Warning: Cannot dlopen some TensorRT libraries. If you would like to use Nvidia GPU with TensorRT, please make sure the missing libraries mentioned above are installed properly.\n",
      "/usr/local/lib/python3.8/dist-packages/tqdm/auto.py:22: TqdmWarning: IProgress not found. Please update jupyter and ipywidgets. See https://ipywidgets.readthedocs.io/en/stable/user_install.html\n",
      "  from .autonotebook import tqdm as notebook_tqdm\n"
     ]
    }
   ],
   "source": [
    "import tensorflow as tf\n",
    "from transformers import AutoTokenizer, DataCollatorWithPadding, TFAutoModelForTokenClassification, create_optimizer\n",
    "from transformers import TFDistilBertForSequenceClassification"
   ]
  },
  {
   "cell_type": "code",
   "execution_count": 15,
   "id": "2d53f6e5",
   "metadata": {},
   "outputs": [],
   "source": [
    "tokenizer = AutoTokenizer.from_pretrained('distilbert-base-uncased')"
   ]
  },
  {
   "cell_type": "code",
   "execution_count": 16,
   "id": "4b66d858",
   "metadata": {
    "scrolled": true
   },
   "outputs": [
    {
     "name": "stderr",
     "output_type": "stream",
     "text": [
      "2022-09-21 02:18:59.781915: I tensorflow/stream_executor/cuda/cuda_gpu_executor.cc:980] successful NUMA node read from SysFS had negative value (-1), but there must be at least one NUMA node, so returning NUMA node zero\n",
      "2022-09-21 02:18:59.782918: I tensorflow/stream_executor/cuda/cuda_gpu_executor.cc:980] successful NUMA node read from SysFS had negative value (-1), but there must be at least one NUMA node, so returning NUMA node zero\n",
      "2022-09-21 02:18:59.786403: I tensorflow/stream_executor/cuda/cuda_gpu_executor.cc:980] successful NUMA node read from SysFS had negative value (-1), but there must be at least one NUMA node, so returning NUMA node zero\n",
      "2022-09-21 02:18:59.787324: I tensorflow/stream_executor/cuda/cuda_gpu_executor.cc:980] successful NUMA node read from SysFS had negative value (-1), but there must be at least one NUMA node, so returning NUMA node zero\n",
      "2022-09-21 02:18:59.788239: I tensorflow/stream_executor/cuda/cuda_gpu_executor.cc:980] successful NUMA node read from SysFS had negative value (-1), but there must be at least one NUMA node, so returning NUMA node zero\n",
      "2022-09-21 02:18:59.789186: I tensorflow/stream_executor/cuda/cuda_gpu_executor.cc:980] successful NUMA node read from SysFS had negative value (-1), but there must be at least one NUMA node, so returning NUMA node zero\n",
      "2022-09-21 02:18:59.790551: I tensorflow/core/platform/cpu_feature_guard.cc:193] This TensorFlow binary is optimized with oneAPI Deep Neural Network Library (oneDNN) to use the following CPU instructions in performance-critical operations:  AVX2 FMA\n",
      "To enable them in other operations, rebuild TensorFlow with the appropriate compiler flags.\n",
      "2022-09-21 02:18:59.977626: I tensorflow/stream_executor/cuda/cuda_gpu_executor.cc:980] successful NUMA node read from SysFS had negative value (-1), but there must be at least one NUMA node, so returning NUMA node zero\n",
      "2022-09-21 02:18:59.978540: I tensorflow/stream_executor/cuda/cuda_gpu_executor.cc:980] successful NUMA node read from SysFS had negative value (-1), but there must be at least one NUMA node, so returning NUMA node zero\n",
      "2022-09-21 02:18:59.979406: I tensorflow/stream_executor/cuda/cuda_gpu_executor.cc:980] successful NUMA node read from SysFS had negative value (-1), but there must be at least one NUMA node, so returning NUMA node zero\n",
      "2022-09-21 02:18:59.980266: I tensorflow/stream_executor/cuda/cuda_gpu_executor.cc:980] successful NUMA node read from SysFS had negative value (-1), but there must be at least one NUMA node, so returning NUMA node zero\n",
      "2022-09-21 02:18:59.981161: I tensorflow/stream_executor/cuda/cuda_gpu_executor.cc:980] successful NUMA node read from SysFS had negative value (-1), but there must be at least one NUMA node, so returning NUMA node zero\n",
      "2022-09-21 02:18:59.982013: I tensorflow/stream_executor/cuda/cuda_gpu_executor.cc:980] successful NUMA node read from SysFS had negative value (-1), but there must be at least one NUMA node, so returning NUMA node zero\n",
      "2022-09-21 02:19:00.617826: I tensorflow/stream_executor/cuda/cuda_gpu_executor.cc:980] successful NUMA node read from SysFS had negative value (-1), but there must be at least one NUMA node, so returning NUMA node zero\n",
      "2022-09-21 02:19:00.618781: I tensorflow/stream_executor/cuda/cuda_gpu_executor.cc:980] successful NUMA node read from SysFS had negative value (-1), but there must be at least one NUMA node, so returning NUMA node zero\n",
      "2022-09-21 02:19:00.619675: I tensorflow/stream_executor/cuda/cuda_gpu_executor.cc:980] successful NUMA node read from SysFS had negative value (-1), but there must be at least one NUMA node, so returning NUMA node zero\n",
      "2022-09-21 02:19:00.620547: I tensorflow/stream_executor/cuda/cuda_gpu_executor.cc:980] successful NUMA node read from SysFS had negative value (-1), but there must be at least one NUMA node, so returning NUMA node zero\n",
      "2022-09-21 02:19:00.621441: I tensorflow/stream_executor/cuda/cuda_gpu_executor.cc:980] successful NUMA node read from SysFS had negative value (-1), but there must be at least one NUMA node, so returning NUMA node zero\n",
      "2022-09-21 02:19:00.622287: I tensorflow/core/common_runtime/gpu/gpu_device.cc:1616] Created device /job:localhost/replica:0/task:0/device:GPU:0 with 22292 MB memory:  -> device: 0, name: NVIDIA GeForce RTX 3090, pci bus id: 0000:01:00.0, compute capability: 8.6\n",
      "2022-09-21 02:19:00.622794: I tensorflow/stream_executor/cuda/cuda_gpu_executor.cc:980] successful NUMA node read from SysFS had negative value (-1), but there must be at least one NUMA node, so returning NUMA node zero\n",
      "2022-09-21 02:19:00.623628: I tensorflow/core/common_runtime/gpu/gpu_device.cc:1616] Created device /job:localhost/replica:0/task:0/device:GPU:1 with 22292 MB memory:  -> device: 1, name: NVIDIA GeForce RTX 3090, pci bus id: 0000:02:00.0, compute capability: 8.6\n"
     ]
    }
   ],
   "source": [
    "X_train_tokenized = tokenizer(X_train, return_tensors=\"tf\", padding=True, truncation=True)\n",
    "X_test_tokenized = tokenizer(X_test, return_tensors=\"tf\", padding=True, truncation=True)\n",
    "\n",
    "train_ds = tf.data.Dataset.from_tensor_slices((\n",
    "    dict(X_train_tokenized),\n",
    "    y_train\n",
    "))\n",
    "\n",
    "test_ds = tf.data.Dataset.from_tensor_slices((\n",
    "    dict(X_test_tokenized),\n",
    "    y_test\n",
    "))"
   ]
  },
  {
   "cell_type": "code",
   "execution_count": 17,
   "id": "84cbe401",
   "metadata": {},
   "outputs": [],
   "source": [
    "# Set hyperparams/constants\n",
    "model_name = \"distilbert-base-uncased\"\n",
    "max_length = 96\n",
    "epochs = 5\n",
    "batch_size = 32\n",
    "learning_rate = 2e-5\n",
    "weight_decay_rate=0.01\n",
    "num_train_steps = len(X_train) // batch_size\n",
    "num_warmup_steps = 0"
   ]
  },
  {
   "cell_type": "code",
   "execution_count": 18,
   "id": "032df087",
   "metadata": {},
   "outputs": [],
   "source": [
    "# trying create_optimizer\n",
    "optimizer, _ = create_optimizer(\n",
    "    init_lr=learning_rate,\n",
    "    num_train_steps=num_train_steps,\n",
    "    weight_decay_rate=weight_decay_rate,\n",
    "    num_warmup_steps=num_warmup_steps\n",
    ")"
   ]
  },
  {
   "cell_type": "code",
   "execution_count": 19,
   "id": "146dcce3",
   "metadata": {},
   "outputs": [
    {
     "name": "stderr",
     "output_type": "stream",
     "text": [
      "2022-09-21 02:19:02.054401: I tensorflow/stream_executor/cuda/cuda_blas.cc:1614] TensorFloat-32 will be used for the matrix multiplication. This will only be logged once.\n",
      "Some layers from the model checkpoint at distilbert-base-uncased were not used when initializing TFDistilBertForSequenceClassification: ['activation_13', 'vocab_projector', 'vocab_layer_norm', 'vocab_transform']\n",
      "- This IS expected if you are initializing TFDistilBertForSequenceClassification from the checkpoint of a model trained on another task or with another architecture (e.g. initializing a BertForSequenceClassification model from a BertForPreTraining model).\n",
      "- This IS NOT expected if you are initializing TFDistilBertForSequenceClassification from the checkpoint of a model that you expect to be exactly identical (initializing a BertForSequenceClassification model from a BertForSequenceClassification model).\n",
      "Some layers of TFDistilBertForSequenceClassification were not initialized from the model checkpoint at distilbert-base-uncased and are newly initialized: ['pre_classifier', 'dropout_19', 'classifier']\n",
      "You should probably TRAIN this model on a down-stream task to be able to use it for predictions and inference.\n"
     ]
    }
   ],
   "source": [
    "model = TFDistilBertForSequenceClassification.from_pretrained('distilbert-base-uncased', num_labels=2)"
   ]
  },
  {
   "cell_type": "code",
   "execution_count": 37,
   "id": "fb9339ae",
   "metadata": {},
   "outputs": [],
   "source": [
    "import tensorflow_addons as tfa\n",
    "\n",
    "metric = tfa.metrics.F1Score(num_classes=2, threshold=0.5)\n",
    "\n",
    "def f1_m(y_true, y_pred):\n",
    "    return metric(y_true, y_pred)\n",
    "\n",
    "model.compile(\n",
    "    optimizer=tf.keras.optimizers.Adam(lr=5e-5),\n",
    "    loss=tf.keras.losses.CategoricalCrossentropy(from_logits=True),\n",
    "    metrics=[f1_m]\n",
    ")"
   ]
  },
  {
   "cell_type": "code",
   "execution_count": 38,
   "id": "e2606693",
   "metadata": {},
   "outputs": [
    {
     "name": "stdout",
     "output_type": "stream",
     "text": [
      "WARNING:tensorflow:6 out of the last 6 calls to <function Model.make_predict_function.<locals>.predict_function at 0x7f2767a8aa60> triggered tf.function retracing. Tracing is expensive and the excessive number of tracings could be due to (1) creating @tf.function repeatedly in a loop, (2) passing tensors with different shapes, (3) passing Python objects instead of tensors. For (1), please define your @tf.function outside of the loop. For (2), @tf.function has reduce_retracing=True option that can avoid unnecessary retracing. For (3), please refer to https://www.tensorflow.org/guide/function#controlling_retracing and https://www.tensorflow.org/api_docs/python/tf/function for  more details.\n",
      "1/1 [==============================] - 1s 950ms/step\n"
     ]
    },
    {
     "data": {
      "text/plain": [
       "TFSequenceClassifierOutput(loss=None, logits=array([[ 0.2220673 , -0.11180453]], dtype=float32), hidden_states=None, attentions=None)"
      ]
     },
     "execution_count": 38,
     "metadata": {},
     "output_type": "execute_result"
    }
   ],
   "source": [
    "model.predict(tokenizer.encode(\"how are you\",\n",
    "                                 truncation=True,\n",
    "                                 padding=True,\n",
    "                                 return_tensors=\"tf\"))"
   ]
  },
  {
   "cell_type": "code",
   "execution_count": 39,
   "id": "4c194a6e",
   "metadata": {},
   "outputs": [
    {
     "name": "stdout",
     "output_type": "stream",
     "text": [
      "Epoch 1/5\n",
      "306/306 [==============================] - 140s 440ms/step - loss: 0.3168 - f1_m: 0.7825 - val_loss: 0.4220 - val_f1_m: 0.7953\n",
      "Epoch 2/5\n",
      "306/306 [==============================] - 134s 439ms/step - loss: 0.2145 - f1_m: 0.8117 - val_loss: 0.5648 - val_f1_m: 0.8239\n",
      "Epoch 3/5\n",
      "306/306 [==============================] - 134s 439ms/step - loss: 0.1557 - f1_m: 0.8346 - val_loss: 0.6347 - val_f1_m: 0.8409\n",
      "Epoch 4/5\n",
      "306/306 [==============================] - 134s 439ms/step - loss: 0.1063 - f1_m: 0.8476 - val_loss: 0.8923 - val_f1_m: 0.8531\n",
      "Epoch 5/5\n",
      "306/306 [==============================] - 134s 439ms/step - loss: 0.0785 - f1_m: 0.8573 - val_loss: 0.8809 - val_f1_m: 0.8620\n"
     ]
    },
    {
     "data": {
      "text/plain": [
       "<keras.callbacks.History at 0x7f22a07ee820>"
      ]
     },
     "execution_count": 39,
     "metadata": {},
     "output_type": "execute_result"
    }
   ],
   "source": [
    "model.fit(\n",
    "    train_ds.batch(batch_size),\n",
    "    epochs=epochs,\n",
    "    validation_data=test_ds.batch(batch_size)\n",
    ")"
   ]
  },
  {
   "cell_type": "code",
   "execution_count": 40,
   "id": "64df1fb1",
   "metadata": {},
   "outputs": [
    {
     "name": "stdout",
     "output_type": "stream",
     "text": [
      "WARNING:tensorflow:Skipping full serialization of Keras layer <keras.layers.regularization.dropout.Dropout object at 0x7f23df2a9220>, because it is not built.\n",
      "WARNING:tensorflow:Skipping full serialization of Keras layer <keras.layers.regularization.dropout.Dropout object at 0x7f23df15df10>, because it is not built.\n",
      "WARNING:tensorflow:Skipping full serialization of Keras layer <keras.layers.regularization.dropout.Dropout object at 0x7f23df177bb0>, because it is not built.\n",
      "WARNING:tensorflow:Skipping full serialization of Keras layer <keras.layers.regularization.dropout.Dropout object at 0x7f23df164850>, because it is not built.\n",
      "WARNING:tensorflow:Skipping full serialization of Keras layer <keras.layers.regularization.dropout.Dropout object at 0x7f23df0c04f0>, because it is not built.\n",
      "WARNING:tensorflow:Skipping full serialization of Keras layer <keras.layers.regularization.dropout.Dropout object at 0x7f23df0cb190>, because it is not built.\n"
     ]
    },
    {
     "name": "stderr",
     "output_type": "stream",
     "text": [
      "WARNING:absl:Found untraced functions such as embeddings_layer_call_fn, embeddings_layer_call_and_return_conditional_losses, transformer_layer_call_fn, transformer_layer_call_and_return_conditional_losses, LayerNorm_layer_call_fn while saving (showing 5 of 164). These functions will not be directly callable after loading.\n"
     ]
    },
    {
     "name": "stdout",
     "output_type": "stream",
     "text": [
      "INFO:tensorflow:Assets written to: ./saved_model/tf_distilbert_course_reviews_01.pth/assets\n"
     ]
    },
    {
     "name": "stderr",
     "output_type": "stream",
     "text": [
      "INFO:tensorflow:Assets written to: ./saved_model/tf_distilbert_course_reviews_01.pth/assets\n"
     ]
    }
   ],
   "source": [
    "model.save('./saved_model/tf_distilbert_course_reviews_01.pth')"
   ]
  }
 ],
 "metadata": {
  "kernelspec": {
   "display_name": "Python 3 (ipykernel)",
   "language": "python",
   "name": "python3"
  },
  "language_info": {
   "codemirror_mode": {
    "name": "ipython",
    "version": 3
   },
   "file_extension": ".py",
   "mimetype": "text/x-python",
   "name": "python",
   "nbconvert_exporter": "python",
   "pygments_lexer": "ipython3",
   "version": "3.8.10"
  }
 },
 "nbformat": 4,
 "nbformat_minor": 5
}
