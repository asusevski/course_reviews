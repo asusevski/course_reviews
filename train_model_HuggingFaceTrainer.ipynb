{
 "cells": [
  {
   "cell_type": "markdown",
   "id": "396541cb",
   "metadata": {},
   "source": [
    "## Importing libraries and reading in data:"
   ]
  },
  {
   "cell_type": "code",
   "execution_count": null,
   "id": "3019f0a3",
   "metadata": {},
   "outputs": [],
   "source": [
    "import json\n",
    "import numpy as np\n",
    "import pandas as pd\n",
    "from sklearn.model_selection import train_test_split"
   ]
  },
  {
   "cell_type": "code",
   "execution_count": null,
   "id": "13c996c1",
   "metadata": {},
   "outputs": [],
   "source": [
    "df_courses = pd.read_json('./data/processed_data/course_data_clean.json')"
   ]
  },
  {
   "cell_type": "markdown",
   "id": "0f0bda9b",
   "metadata": {},
   "source": [
    "### Here's what the data looks like:"
   ]
  },
  {
   "cell_type": "code",
   "execution_count": null,
   "id": "bd3208e1",
   "metadata": {},
   "outputs": [],
   "source": [
    "df_courses"
   ]
  },
  {
   "cell_type": "markdown",
   "id": "6d8dbbba",
   "metadata": {},
   "source": [
    "### And here's an example of what a review looks like:"
   ]
  },
  {
   "cell_type": "code",
   "execution_count": null,
   "id": "1d5760d8",
   "metadata": {},
   "outputs": [],
   "source": [
    "df_courses['reviews'].values[0]"
   ]
  },
  {
   "cell_type": "markdown",
   "id": "85dd5567",
   "metadata": {},
   "source": [
    "We only need course code, review text, and label (currently called \"course_rating_int\").\n",
    "\n",
    "Subsetting to get these columns and dropping rows where the label is missing, we have:"
   ]
  },
  {
   "cell_type": "code",
   "execution_count": null,
   "id": "49e1974b",
   "metadata": {},
   "outputs": [],
   "source": [
    "df_reviews = df_courses[['course_code', 'reviews', 'course_rating_int']].rename(columns={'course_rating_int': 'label'})\n",
    "df_reviews = df_reviews.loc[df_reviews['label'].notna()]"
   ]
  },
  {
   "attachments": {
    "oh.png": {
     "image/png": "[encoded data removed]"
    }
   },
   "cell_type": "markdown",
   "id": "e557d82a",
   "metadata": {},
   "source": [
    "For preprocessing the label, we could leave it as is (as a binary variable) but instead we're going to create one-hot vectors for each row.\n",
    "\n",
    "Here is an example of one-hot encoding:\n",
    "\n",
    "![oh.png](attachment:oh.png)\n",
    "\n",
    "The benefit of doing this is it would be easier to add new labels if we needed. In particular, we could add a third label for \"missing rating\", if a review did not give a rating."
   ]
  },
  {
   "cell_type": "code",
   "execution_count": 1,
   "id": "f99208af",
   "metadata": {},
   "outputs": [
    {
     "ename": "NameError",
     "evalue": "name 'df_reviews' is not defined",
     "output_type": "error",
     "traceback": [
      "\u001b[0;31m---------------------------------------------------------------------------\u001b[0m",
      "\u001b[0;31mNameError\u001b[0m                                 Traceback (most recent call last)",
      "Cell \u001b[0;32mIn [1], line 1\u001b[0m\n\u001b[0;32m----> 1\u001b[0m y \u001b[38;5;241m=\u001b[39m \u001b[43mdf_reviews\u001b[49m[\u001b[38;5;124m'\u001b[39m\u001b[38;5;124mlabel\u001b[39m\u001b[38;5;124m'\u001b[39m]\u001b[38;5;241m.\u001b[39mvalues\n\u001b[1;32m      2\u001b[0m oh_y \u001b[38;5;241m=\u001b[39m np\u001b[38;5;241m.\u001b[39mzeros((\u001b[38;5;28mlen\u001b[39m(y), \u001b[38;5;241m2\u001b[39m))\n\u001b[1;32m      3\u001b[0m oh_y[np\u001b[38;5;241m.\u001b[39marange(\u001b[38;5;28mlen\u001b[39m(y)), np\u001b[38;5;241m.\u001b[39marray(y)\u001b[38;5;241m.\u001b[39mastype(\u001b[38;5;28mint\u001b[39m)] \u001b[38;5;241m=\u001b[39m \u001b[38;5;241m1\u001b[39m\n",
      "\u001b[0;31mNameError\u001b[0m: name 'df_reviews' is not defined"
     ]
    }
   ],
   "source": [
    "y = df_reviews['label'].values\n",
    "oh_y = np.zeros((len(y), 2))\n",
    "oh_y[np.arange(len(y)), np.array(y).astype(int)] = 1\n",
    "X_train, X_test, y_train, y_test = train_test_split(list(df_reviews['reviews'].values), oh_y, test_size=0.33, random_state=6)"
   ]
  },
  {
   "cell_type": "markdown",
   "id": "83ec64d2",
   "metadata": {},
   "source": [
    "## HF Trainer\n",
    "\n",
    "Importing libraries required for HuggingFace Trainer:"
   ]
  },
  {
   "cell_type": "code",
   "execution_count": null,
   "id": "d780dd99",
   "metadata": {},
   "outputs": [],
   "source": [
    "from datasets.dataset_dict import DatasetDict\n",
    "from datasets import Dataset\n",
    "from torch import nn\n",
    "import torch\n",
    "from transformers import AutoModelForSequenceClassification, AutoTokenizer, Trainer, TrainingArguments"
   ]
  },
  {
   "cell_type": "markdown",
   "id": "42c84fce",
   "metadata": {},
   "source": [
    "For HuggingFace Trainer, all we need to do is provide the model, training arguments (hyperparameters), metric for scoring, datasets, and finally the tokenizer.\n",
    "\n",
    "Building the dataset, we have:"
   ]
  },
  {
   "cell_type": "code",
   "execution_count": null,
   "id": "3cbe0b76",
   "metadata": {},
   "outputs": [],
   "source": [
    "dataset = {\n",
    "    'train': Dataset.from_dict({'label':y_train,'text':X_train}),\n",
    "    'test': Dataset.from_dict({'label':y_test,'text':X_test})\n",
    "}\n",
    "\n",
    "dataset = DatasetDict(dataset)"
   ]
  },
  {
   "cell_type": "markdown",
   "id": "3ddd9644",
   "metadata": {},
   "source": [
    "Downloading the distillbert tokenizer from the HuggingFace Hub:\n",
    "\n",
    "*Note that we put it into a function to use \"map\" to apply it onto the dataset we created above*"
   ]
  },
  {
   "cell_type": "code",
   "execution_count": null,
   "id": "e5ebbfc3",
   "metadata": {},
   "outputs": [],
   "source": [
    "model_name = \"distilbert-base-uncased\"\n",
    "tokenizer = AutoTokenizer.from_pretrained(model_name)"
   ]
  },
  {
   "cell_type": "code",
   "execution_count": null,
   "id": "3956afa1",
   "metadata": {},
   "outputs": [],
   "source": [
    "def tokenize_text(texts):\n",
    "    return tokenizer(texts[\"text\"], truncation=True, max_length=512)"
   ]
  },
  {
   "cell_type": "code",
   "execution_count": null,
   "id": "0987e9c2",
   "metadata": {},
   "outputs": [],
   "source": [
    "dataset = dataset.map(tokenize_text, batched=True)"
   ]
  },
  {
   "cell_type": "markdown",
   "id": "38b66321",
   "metadata": {},
   "source": [
    "We also need to provide the AutoModel (the class that is used to download the model from HuggingFace) a mapping from labels to numbers and numbers to labels."
   ]
  },
  {
   "cell_type": "code",
   "execution_count": null,
   "id": "6250f96a",
   "metadata": {},
   "outputs": [],
   "source": [
    "id2label = {0: \"bad course\", 1: \"good course\"}\n",
    "label2id = {\"bad course\": 0, \"good course\": 1}"
   ]
  },
  {
   "cell_type": "code",
   "execution_count": null,
   "id": "74dee662",
   "metadata": {},
   "outputs": [],
   "source": [
    "model = AutoModelForSequenceClassification.from_pretrained(\n",
    "    model_name,\n",
    "    num_labels=2,\n",
    "    id2label=id2label,\n",
    "    label2id=label2id\n",
    ")"
   ]
  },
  {
   "cell_type": "markdown",
   "id": "96a2464e",
   "metadata": {},
   "source": [
    "Defining the metric (f1 score) used to score the model:"
   ]
  },
  {
   "cell_type": "code",
   "execution_count": null,
   "id": "45938e4a",
   "metadata": {},
   "outputs": [],
   "source": [
    "from sklearn.metrics import f1_score\n",
    "\n",
    "def compute_metrics(pred):\n",
    "    labels = pred.label_ids\n",
    "    preds = pred.predictions.argmax(-1)\n",
    "    f1 = f1_score(labels, preds, average=\"weighted\")\n",
    "    return {\"f1\": f1}"
   ]
  },
  {
   "cell_type": "markdown",
   "id": "d8b28867",
   "metadata": {},
   "source": [
    "Setting hyperparameters and creating a TrainingArguments object:"
   ]
  },
  {
   "cell_type": "code",
   "execution_count": null,
   "id": "dbee7b6e",
   "metadata": {},
   "outputs": [],
   "source": [
    "batch_size = 32\n",
    "logging_steps = len(X_train) // batch_size\n",
    "output_dir = \"hf_trainer\"\n",
    "training_args = TrainingArguments(\n",
    "    output_dir=output_dir,\n",
    "     num_train_epochs=5,\n",
    "     learning_rate=2e-5,\n",
    "     per_device_train_batch_size=batch_size,\n",
    "     per_device_eval_batch_size=batch_size,\n",
    "     weight_decay=0.01,\n",
    "     evaluation_strategy=\"epoch\",\n",
    "     logging_steps=logging_steps,\n",
    "     p16=True,\n",
    "     push_to_hub=False\n",
    ")"
   ]
  },
  {
   "cell_type": "markdown",
   "id": "f8419f50",
   "metadata": {},
   "source": [
    "Finally we are ready to create our Trainer.\n",
    "\n",
    "Once we have our trainer, we can call the *train()* method as well as the *evaluate()* method to interact with our model. "
   ]
  },
  {
   "cell_type": "code",
   "execution_count": null,
   "id": "f9cf802e",
   "metadata": {},
   "outputs": [],
   "source": [
    "trainer = Trainer(\n",
    "    model=model,\n",
    "    args=training_args,\n",
    "    compute_metrics=compute_metrics,\n",
    "    train_dataset=dataset['train'],\n",
    "    eval_dataset=dataset['test'],\n",
    "    tokenizer=tokenizer\n",
    ")"
   ]
  },
  {
   "cell_type": "markdown",
   "id": "b2c725e1",
   "metadata": {},
   "source": [
    "Training, evaluating, and saving the model:"
   ]
  },
  {
   "cell_type": "code",
   "execution_count": null,
   "id": "c369b2b3",
   "metadata": {
    "scrolled": true
   },
   "outputs": [],
   "source": [
    "trainer.train()"
   ]
  },
  {
   "cell_type": "code",
   "execution_count": null,
   "id": "f9a163b9",
   "metadata": {},
   "outputs": [],
   "source": [
    "trainer.evaluate()"
   ]
  },
  {
   "cell_type": "code",
   "execution_count": null,
   "id": "a8058d99",
   "metadata": {},
   "outputs": [],
   "source": [
    "model_dir = './saved_model/'\n",
    "trainer.save_model(model_dir + 'distilbert_course_reviews_01')"
   ]
  }
 ],
 "metadata": {
  "kernelspec": {
   "display_name": "Python 3 (ipykernel)",
   "language": "python",
   "name": "python3"
  },
  "language_info": {
   "codemirror_mode": {
    "name": "ipython",
    "version": 3
   },
   "file_extension": ".py",
   "mimetype": "text/x-python",
   "name": "python",
   "nbconvert_exporter": "python",
   "pygments_lexer": "ipython3",
   "version": "3.8.10"
  }
 },
 "nbformat": 4,
 "nbformat_minor": 5
}
