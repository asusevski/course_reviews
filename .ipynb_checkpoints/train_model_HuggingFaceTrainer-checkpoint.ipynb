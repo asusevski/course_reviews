{
 "cells": [
  {
   "cell_type": "code",
   "execution_count": null,
   "id": "3019f0a3",
   "metadata": {},
   "outputs": [],
   "source": [
    "import json\n",
    "import numpy as np\n",
    "import pandas as pd\n",
    "from sklearn.model_selection import train_test_split"
   ]
  },
  {
   "cell_type": "code",
   "execution_count": null,
   "id": "55324640",
   "metadata": {},
   "outputs": [],
   "source": [
    "df_courses = pd.read_json('./data/course_sample_overviews.json')"
   ]
  },
  {
   "cell_type": "code",
   "execution_count": null,
   "id": "6cc53716",
   "metadata": {},
   "outputs": [],
   "source": [
    "with open('./data/courses_sample.json', \"r\") as f:\n",
    "    reviews = json.load(f)"
   ]
  },
  {
   "cell_type": "code",
   "execution_count": null,
   "id": "272cfbc2",
   "metadata": {},
   "outputs": [],
   "source": [
    "def get_reviews(row):\n",
    "    course_code = row[0]\n",
    "    revs = reviews[course_code]\n",
    "    revs = [rev['review'] for rev in revs]\n",
    "    return np.array(revs)"
   ]
  },
  {
   "cell_type": "code",
   "execution_count": null,
   "id": "5f1280bf",
   "metadata": {},
   "outputs": [],
   "source": [
    "df_courses['reviews'] = df_courses.apply(get_reviews, axis=1)"
   ]
  },
  {
   "cell_type": "code",
   "execution_count": null,
   "id": "b77918a6",
   "metadata": {},
   "outputs": [],
   "source": [
    "def good_course(row, col_name='liked', threshold=50):\n",
    "    percent = row[col_name]\n",
    "    percent = percent.replace('%', '')\n",
    "    if not percent.isnumeric():\n",
    "        # If no rating, return 0 (not a good course)\n",
    "        return 0\n",
    "    percent = int(percent)\n",
    "    if percent >  threshold:\n",
    "        return 1\n",
    "    return 0"
   ]
  },
  {
   "cell_type": "code",
   "execution_count": null,
   "id": "698fb009",
   "metadata": {},
   "outputs": [],
   "source": [
    "df_courses['num_reviews'] = df_courses.apply(lambda x: len(x['reviews']), axis=1)"
   ]
  },
  {
   "cell_type": "code",
   "execution_count": null,
   "id": "cc751bdb",
   "metadata": {},
   "outputs": [],
   "source": [
    "def tmp(row):\n",
    "    num_reviews = row['num_reviews']\n",
    "    review_likes = np.random.choice([0, 1], size=(num_reviews,), p=[1./3, 2./3])\n",
    "    return review_likes"
   ]
  },
  {
   "cell_type": "code",
   "execution_count": null,
   "id": "630a9c76",
   "metadata": {},
   "outputs": [],
   "source": [
    "df_courses['review_likes'] = df_courses.apply(tmp, axis=1)"
   ]
  },
  {
   "cell_type": "code",
   "execution_count": null,
   "id": "b38616e5",
   "metadata": {},
   "outputs": [],
   "source": [
    "df_courses['good_course'] = df_courses.apply(good_course, axis=1)"
   ]
  },
  {
   "cell_type": "code",
   "execution_count": null,
   "id": "61190f27",
   "metadata": {},
   "outputs": [],
   "source": [
    "subset = df_courses.loc[(df_courses['num_ratings'] >= 5) & (df_courses['num_reviews'] >= 5)]"
   ]
  },
  {
   "cell_type": "code",
   "execution_count": null,
   "id": "f99208af",
   "metadata": {},
   "outputs": [],
   "source": [
    "X_train, X_test, y_train, y_test = train_test_split(list(np.concatenate(subset['reviews'].values).flat), list(np.concatenate(subset['review_likes'].values).flat), test_size=0.33, random_state=6)"
   ]
  },
  {
   "cell_type": "markdown",
   "id": "83ec64d2",
   "metadata": {},
   "source": [
    "## HF Trainer"
   ]
  },
  {
   "cell_type": "code",
   "execution_count": null,
   "id": "d780dd99",
   "metadata": {},
   "outputs": [],
   "source": [
    "from datasets.dataset_dict import DatasetDict\n",
    "from datasets import Dataset\n",
    "from torch import nn\n",
    "import torch\n",
    "from transformers import AutoModelForSequenceClassification, AutoTokenizer, Trainer, TrainingArguments"
   ]
  },
  {
   "cell_type": "code",
   "execution_count": null,
   "id": "3cbe0b76",
   "metadata": {},
   "outputs": [],
   "source": [
    "dataset = {\n",
    "    'train': Dataset.from_dict({'label':y_train,'text':X_train}),\n",
    "    'test': Dataset.from_dict({'label':y_test,'text':X_test})\n",
    "}\n",
    "\n",
    "dataset = DatasetDict(dataset)"
   ]
  },
  {
   "cell_type": "code",
   "execution_count": null,
   "id": "e5ebbfc3",
   "metadata": {},
   "outputs": [],
   "source": [
    "model_name = \"distilbert-base-uncased\"\n",
    "tokenizer = AutoTokenizer.from_pretrained(model_name)"
   ]
  },
  {
   "cell_type": "code",
   "execution_count": null,
   "id": "3956afa1",
   "metadata": {},
   "outputs": [],
   "source": [
    "def tokenize_text(texts):\n",
    "    return tokenizer(texts[\"text\"], truncation=True, max_length=512)"
   ]
  },
  {
   "cell_type": "code",
   "execution_count": null,
   "id": "0987e9c2",
   "metadata": {},
   "outputs": [],
   "source": [
    "dataset = dataset.map(tokenize_text, batched=True)"
   ]
  },
  {
   "cell_type": "code",
   "execution_count": null,
   "id": "6250f96a",
   "metadata": {},
   "outputs": [],
   "source": [
    "id2label = {0: \"bad course\", 1: \"good course\"}\n",
    "label2id = {\"bad course\": 0, \"good course\": 1}"
   ]
  },
  {
   "cell_type": "code",
   "execution_count": null,
   "id": "74dee662",
   "metadata": {},
   "outputs": [],
   "source": [
    "model = AutoModelForSequenceClassification.from_pretrained(\n",
    "    model_name,\n",
    "    num_labels=2,\n",
    "    id2label=id2label,\n",
    "    label2id=label2id\n",
    ")"
   ]
  },
  {
   "cell_type": "code",
   "execution_count": null,
   "id": "45938e4a",
   "metadata": {},
   "outputs": [],
   "source": [
    "def compute_metrics(pred):\n",
    "    labels = pred.label_ids\n",
    "    preds = pred.predictions.argmax(-1)\n",
    "    f1 = f1_score(labels, preds, average=\"weighted\")\n",
    "    return {\"f1\": f1}"
   ]
  },
  {
   "cell_type": "code",
   "execution_count": null,
   "id": "dbee7b6e",
   "metadata": {},
   "outputs": [],
   "source": [
    "batch_size = 64\n",
    "logging_steps = len(X_train) // batch_size\n",
    "output_dir = \"hf_trainer\"\n",
    "training_args = TrainingArguments(\n",
    "    output_dir=output_dir,\n",
    "     num_train_epochs=5,\n",
    "     learning_rate=2e-5,\n",
    "     per_device_train_batch_size=batch_size,\n",
    "     per_device_eval_batch_size=batch_size,\n",
    "     weight_decay=0.01,\n",
    "     evaluation_strategy=\"epoch\",\n",
    "     logging_steps=logging_steps,\n",
    "     #p16=True,\n",
    "     push_to_hub=False\n",
    ")"
   ]
  },
  {
   "cell_type": "code",
   "execution_count": null,
   "id": "f9cf802e",
   "metadata": {},
   "outputs": [],
   "source": [
    "trainer = Trainer(\n",
    "    model=model,\n",
    "    args=training_args,\n",
    "    compute_metrics=compute_metrics,\n",
    "    train_dataset=dataset['train'],\n",
    "    eval_dataset=dataset['test'],\n",
    "    tokenizer=tokenizer\n",
    ")"
   ]
  },
  {
   "cell_type": "code",
   "execution_count": null,
   "id": "c369b2b3",
   "metadata": {},
   "outputs": [],
   "source": [
    "trainer.train()"
   ]
  }
 ],
 "metadata": {
  "kernelspec": {
   "display_name": "Python 3 (ipykernel)",
   "language": "python",
   "name": "python3"
  },
  "language_info": {
   "codemirror_mode": {
    "name": "ipython",
    "version": 3
   },
   "file_extension": ".py",
   "mimetype": "text/x-python",
   "name": "python",
   "nbconvert_exporter": "python",
   "pygments_lexer": "ipython3",
   "version": "3.9.12"
  }
 },
 "nbformat": 4,
 "nbformat_minor": 5
}
